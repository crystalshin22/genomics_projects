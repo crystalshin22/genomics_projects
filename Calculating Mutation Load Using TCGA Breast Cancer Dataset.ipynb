{
 "cells": [
  {
   "cell_type": "markdown",
   "metadata": {},
   "source": [
    "# Calculating Mutation Load Using TCGA Breast Cancer Dataset"
   ]
  },
  {
   "cell_type": "markdown",
   "metadata": {},
   "source": [
    "DNA mismatch repair (MMR) mechanism is responsible for fixing errors that occur during DNA replication in addition to proofreading. The goal of this analysis is to investigate how damages in MMR pathway could affect the number of mutations, also known as mutation load, in cancer.\n",
    "\n",
    "For the analysis, we will be using MAF files of TCGA breast cancer data set. When the dataset is loaded, we will only keep the mutations that pass the filter. "
   ]
  },
  {
   "cell_type": "code",
   "execution_count": 2,
   "metadata": {},
   "outputs": [],
   "source": [
    "import os\n",
    "\n",
    "cwd = os.getcwd()\n",
    "DATA = cwd + '/data'"
   ]
  },
  {
   "cell_type": "code",
   "execution_count": 5,
   "metadata": {},
   "outputs": [
    {
     "name": "stderr",
     "output_type": "stream",
     "text": [
      "/Users/crystalshin/opt/anaconda3/lib/python3.8/site-packages/IPython/core/interactiveshell.py:3146: DtypeWarning: Columns (87,88,118) have mixed types.Specify dtype option on import or set low_memory=False.\n",
      "  has_raised = await self.run_ast_nodes(code_ast.body, cell_name,\n"
     ]
    },
    {
     "name": "stdout",
     "output_type": "stream",
     "text": [
      "73156 out of 120988 mutations passed the filtering criteria, 60.47%\n"
     ]
    }
   ],
   "source": [
    "import pandas as pd\n",
    "\n",
    "pd.set_option('display.max_columns', None)\n",
    "\n",
    "maf_file = DATA + \"/TCGA.BRCA.mutect.995c0111-d90b-4140-bee7-3845436c3b42.DR-10.0.somatic.maf.gz\"\n",
    "\n",
    "maf = pd.read_csv(maf_file, sep=\"\\t\", comment='#')\n",
    "\n",
    "maf.head()\n",
    "\n",
    "mut = maf[(maf.FILTER == \"PASS\") & ((maf.IMPACT == \"MODERATE\") | (maf.IMPACT == \"HIGH\"))]\n",
    "\n",
    "print(\"{} out of {} mutations passed the filtering criteria, {:.2f}%\".format(\n",
    "    len(mut), len(maf), 100 * len(mut) / len(maf)))"
   ]
  },
  {
   "cell_type": "markdown",
   "metadata": {},
   "source": [
    "We will focus on 11 MMR genes that are highlighted in [Cortes-Ciriano et al. paper](https://www.ncbi.nlm.nih.gov/pmc/articles/PMC5467167/figure/f1/). Using the MAF file, patients with at least one mutation with moderate/high impact can be identified."
   ]
  },
  {
   "cell_type": "code",
   "execution_count": 7,
   "metadata": {},
   "outputs": [],
   "source": [
    "mmr = {\"MLH1\", \"MLH3\", \"MSH2\", \"MSH3\", \"MSH6\", \"PMS1\", \"PMS2\", \"POLE\", \"POLD1\", \"PRKDC\", \"APC\"}"
   ]
  },
  {
   "cell_type": "markdown",
   "metadata": {},
   "source": [
    "Now, we can calculate the mutation load of each sample in the MAF file, and also identify each sample with mutations in its MMR gene. Mutation load can be calculated by aggregating the number of rows in each sample. To identify the samples that have MMR gene mutations, we can simply search for unique samples that are identified as one of the 11 MMR genes."
   ]
  },
  {
   "cell_type": "code",
   "execution_count": 8,
   "metadata": {},
   "outputs": [],
   "source": [
    "mutation_load = maf.groupby(\"Tumor_Sample_Barcode\").CONTEXT.size()\n",
    "\n",
    "mut_mmr_samples = maf[maf.Hugo_Symbol.isin(mmr)].Tumor_Sample_Barcode.unique()"
   ]
  },
  {
   "cell_type": "markdown",
   "metadata": {},
   "source": [
    "We can now plot a boxplot to visualize how mutation loads differ for MMR and non-MMR genes. The scale of y-axis can be set to log-scale since the boxplot might be highly distorted. "
   ]
  },
  {
   "cell_type": "code",
   "execution_count": 10,
   "metadata": {},
   "outputs": [
    {
     "data": {
      "image/png": "[encoded data removed]",
      "text/plain": [
       "<Figure size 432x288 with 1 Axes>"
      ]
     },
     "metadata": {
      "needs_background": "light"
     },
     "output_type": "display_data"
    }
   ],
   "source": [
    "import matplotlib.pyplot as plt\n",
    "import seaborn as sns\n",
    "\n",
    "plotdata = pd.DataFrame({\"mutation_load\": mutation_load, \"mutation_in_MMR\": False})\n",
    "plotdata.loc[mut_mmr_samples, \"mutation_in_MMR\"] = True\n",
    "\n",
    "ax = sns.boxplot(x=\"mutation_in_MMR\", y=\"mutation_load\", data=plotdata, fliersize=0)\n",
    "ax = sns.stripplot(x=\"mutation_in_MMR\", y=\"mutation_load\", data=plotdata, alpha=0.5, color=\"black\")\n",
    "\n",
    "ax.set_xlabel(\"Mutations in MMR genes\")\n",
    "ax.set_ylabel(\"Total mutation load in the sample\")\n",
    "ax.set_yscale('log')"
   ]
  },
  {
   "cell_type": "markdown",
   "metadata": {},
   "source": [
    "From the boxplot, it is evident that samples with mutations in MMR genes have much higher mutation loads than those for samples without mutations in MMR genes. To further confirm the statistical significance of this result, a Mann-Whitney U Test can be performed. Mann-Whitney U test is more robust and appropriate in our case, since the distribution of mutation load has a long tail and given our large sample size, applying a non-parametric test is more appropriate."
   ]
  },
  {
   "cell_type": "code",
   "execution_count": 13,
   "metadata": {},
   "outputs": [
    {
     "name": "stdout",
     "output_type": "stream",
     "text": [
      "3.755112755500161e-19\n"
     ]
    }
   ],
   "source": [
    "import numpy as np\n",
    "from scipy.stats import mannwhitneyu\n",
    "\n",
    "U1, p = mannwhitneyu(plotdata[plotdata.mutation_in_MMR].mutation_load, plotdata[~plotdata.mutation_in_MMR].mutation_load)\n",
    "print(p)"
   ]
  },
  {
   "cell_type": "markdown",
   "metadata": {},
   "source": [
    "The p-value from the MWU test is significantly less than 0.05, suggesting that the result is statistically significant. We observe difference in mutation loads between samples with mutations in MMR and samples without, because mutation in MMR genes impair the ability of these genes to successfully perform its job of repairing the damage and transcription errors in the DNA. Therefore, the frequency of mutation would go up for samples with mutations in MMR as these mutations are not fixed by the MMR genes as effectively."
   ]
  },
  {
   "cell_type": "code",
   "execution_count": null,
   "metadata": {},
   "outputs": [],
   "source": []
  }
 ],
 "metadata": {
  "kernelspec": {
   "display_name": "Python 3",
   "language": "python",
   "name": "python3"
  },
  "language_info": {
   "codemirror_mode": {
    "name": "ipython",
    "version": 3
   },
   "file_extension": ".py",
   "mimetype": "text/x-python",
   "name": "python",
   "nbconvert_exporter": "python",
   "pygments_lexer": "ipython3",
   "version": "3.8.5"
  },
  "toc": {
   "base_numbering": 1,
   "nav_menu": {},
   "number_sections": true,
   "sideBar": true,
   "skip_h1_title": true,
   "title_cell": "Table of Contents",
   "title_sidebar": "Contents",
   "toc_cell": false,
   "toc_position": {},
   "toc_section_display": true,
   "toc_window_display": false
  }
 },
 "nbformat": 4,
 "nbformat_minor": 4
}
